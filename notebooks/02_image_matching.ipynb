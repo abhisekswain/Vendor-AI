{
 "cells": [
  {
   "cell_type": "code",
   "execution_count": 501,
   "metadata": {
    "collapsed": true,
    "deletable": true,
    "editable": true
   },
   "outputs": [],
   "source": [
    "import cv2\n",
    "import numpy as np\n",
    "import matplotlib.pyplot as plt\n",
    "import pandas as pd\n",
    "import glob\n",
    "import os\n",
    "import pickle\n",
    "from itertools import chain\n",
    "import operator\n",
    "\n",
    "%matplotlib inline"
   ]
  },
  {
   "cell_type": "code",
   "execution_count": 502,
   "metadata": {
    "collapsed": false,
    "deletable": true,
    "editable": true
   },
   "outputs": [],
   "source": [
    "# Read pickled file on top 200 images \n",
    "with open('top200.pkl', 'rb') as f:\n",
    "    top200images = pickle.load(f)"
   ]
  },
  {
   "cell_type": "code",
   "execution_count": 503,
   "metadata": {
    "collapsed": false,
    "deletable": true,
    "editable": true
   },
   "outputs": [],
   "source": [
    "# Read pickled cluster centers\n",
    "with open('mbk_means_cluster_centers.pkl', 'rb') as w1:\n",
    "    mbk_means_cluster_centers = pickle.load(w1)"
   ]
  },
  {
   "cell_type": "code",
   "execution_count": 504,
   "metadata": {
    "collapsed": false,
    "deletable": true,
    "editable": true
   },
   "outputs": [
    {
     "data": {
      "text/plain": [
       "(2000, 128)"
      ]
     },
     "execution_count": 504,
     "metadata": {},
     "output_type": "execute_result"
    }
   ],
   "source": [
    "mbk_means_cluster_centers.shape"
   ]
  },
  {
   "cell_type": "code",
   "execution_count": 506,
   "metadata": {
    "collapsed": true,
    "deletable": true,
    "editable": true
   },
   "outputs": [],
   "source": [
    "# Read image dataframe\n",
    "image_df1 = pd.read_pickle('image_df.pickle')"
   ]
  },
  {
   "cell_type": "code",
   "execution_count": 507,
   "metadata": {
    "collapsed": false,
    "deletable": true,
    "editable": true
   },
   "outputs": [],
   "source": [
    "def read_image(path):\n",
    "    img = cv2.imread(path)\n",
    "    if img is None:\n",
    "        raise IOError(\"Unable to open '%s'. Are you sure it's a valid image path?\")\n",
    "    return img"
   ]
  },
  {
   "cell_type": "code",
   "execution_count": 508,
   "metadata": {
    "collapsed": false,
    "deletable": true,
    "editable": true
   },
   "outputs": [],
   "source": [
    "# Upload test image and calculate keypoints and descriptors\n",
    "from PIL import Image\n",
    "img_test_path = \"image1b_chanel.jpg\"\n",
    "img_test = read_image(img_test_path)\n",
    "gray_test = cv2.cvtColor(img_test, cv2.COLOR_BGR2GRAY)\n",
    "sift = cv2.xfeatures2d.SIFT_create()\n",
    "kp_test, desc_test = sift.detectAndCompute(gray_test, None)"
   ]
  },
  {
   "cell_type": "code",
   "execution_count": 509,
   "metadata": {
    "collapsed": true,
    "deletable": true,
    "editable": true
   },
   "outputs": [],
   "source": [
    "class RootSIFT(object):\n",
    "    # From http://www.pyimagesearch.com/2015/04/13/implementing-rootsift-in-python-and-opencv/\n",
    "    \n",
    "    def __init__(self):\n",
    "        # initialize the SIFT feature extractor\n",
    "        self.extractor = cv2.DescriptorExtractor_create(\"SIFT\")\n",
    "\n",
    "    def compute(self, image, kps, eps=1e-7):\n",
    "        # compute SIFT descriptors\n",
    "        (kps, descs) = self.extractor.compute(image, kps)\n",
    "\n",
    "        # if there are no keypoints or descriptors, return an empty tuple\n",
    "        if len(kps) == 0:\n",
    "            return ([], None)\n",
    "\n",
    "        # apply the Hellinger kernel by first L1-normalizing and taking the\n",
    "        # square-root\n",
    "        descs /= (descs.sum(axis=1, keepdims=True) + eps)\n",
    "        descs = np.sqrt(descs)\n",
    "        #descs /= (np.linalg.norm(descs, axis=1, ord=2) + eps)\n",
    "\n",
    "        # return a tuple of the keypoints and descriptors\n",
    "        return (kps, descs)"
   ]
  },
  {
   "cell_type": "code",
   "execution_count": 510,
   "metadata": {
    "collapsed": false,
    "deletable": true,
    "editable": true
   },
   "outputs": [],
   "source": [
    "\"\"\"\n",
    "Function to match a feature in one image to a feature in \n",
    "another image is to use the ratio of the distance to the two closest matching features. \n",
    "This ensures that only features that are distinct enough compared to the other features in the image are used. \n",
    "As a consequence, the number of false matches is lowered. \n",
    "\"\"\"\n",
    "\n",
    "from array import array\n",
    "from scipy import linalg\n",
    "def match(desc1,desc2):\n",
    "    \"\"\" For each descriptor in the first image,\n",
    "    select its match in the second image.\n",
    "    input: desc1 (descriptors for the first image),\n",
    "    desc2 (same for second image). \"\"\"\n",
    "    desc1 = np.array([d/linalg.norm(d) for d in desc1])\n",
    "    desc2 = np.array([d/linalg.norm(d) for d in desc2])\n",
    "    dist_ratio = 0.6  \n",
    "    desc1_size = desc1.shape\n",
    "    matchscores = np.zeros((desc1_size[0],1),'int')\n",
    "    desc2t = desc2.T # precompute matrix transpose  \n",
    "    for i in range(desc1_size[0]):\n",
    "        dotprods = np.dot(desc1[i,:],desc2t) # vector of dot products\n",
    "        dotprods = 0.9999*dotprods\n",
    "        # inverse cosine and sort, return index for features in second image\n",
    "        indx = np.argsort(np.arccos(dotprods))\n",
    "        #print(indx)\n",
    "    # check if nearest neighbor has angle less than dist_ratio times 2nd\n",
    "        if np.arccos(dotprods)[indx[0]] < dist_ratio * np.arccos(dotprods)[indx[1]]:\n",
    "            #print (np.arccos(dotprods)[indx[0]], np.arccos(dotprods)[indx[1]])\n",
    "            matchscores[i] = int(indx[0])\n",
    "            print (matchscores[i])\n",
    "    return matchscores"
   ]
  },
  {
   "cell_type": "code",
   "execution_count": 511,
   "metadata": {
    "collapsed": false,
    "deletable": true,
    "editable": true
   },
   "outputs": [],
   "source": [
    "\"\"\"\n",
    "To further increase the robustness of the matches, we can reverse the procedure and match \n",
    "the other way (from the features in the second image to features in the first) and only keep \n",
    "the correspondences that satisfy the matching criteria both ways (same as what we did for the Harris points). \n",
    "The function match_twosided() does just this.\n",
    "\"\"\"\n",
    "\n",
    "def match_twosided(desc1,desc2):\n",
    "    \"\"\" Two-sided symmetric version of match(). \"\"\"\n",
    "    matches_12 = match(desc1,desc2)\n",
    "    matches_21 = match(desc2,desc1)\n",
    "    ndx_12 = np.nonzero(matches_12)[0]\n",
    "# remove matches that are not symmetric\n",
    "    for n in ndx_12:\n",
    "        if matches_21[int(matches_12[n])] != n:\n",
    "            matches_12[n] = 0\n",
    "    return matches_12"
   ]
  },
  {
   "cell_type": "code",
   "execution_count": null,
   "metadata": {
    "collapsed": false,
    "deletable": true,
    "editable": true
   },
   "outputs": [],
   "source": [
    "# Find matches in top 200 images\n",
    "match_list = {}\n",
    "for image in top200images:\n",
    "    img2_path = image_df1.iloc[image[0]]['image_path']\n",
    "    img_ftr = read_image(img2_path) \n",
    "    gray2 = cv2.cvtColor(img_ftr, cv2.COLOR_BGR2GRAY)\n",
    "    sift = cv2.xfeatures2d.SIFT_create()\n",
    "    kp2, desc2 = sift.detectAndCompute(gray2, None)\n",
    "    test = match_twosided(desc1, desc2)\n",
    "    match_list[elt[0]] = linalg.norm(test)"
   ]
  },
  {
   "cell_type": "code",
   "execution_count": 514,
   "metadata": {
    "collapsed": true,
    "deletable": true,
    "editable": true
   },
   "outputs": [],
   "source": [
    "# Get sorted index\n",
    "def return_index(match_list):\n",
    "    sorted_match = sorted(match_list.items(), key=operator.itemgetter(1))\n",
    "    return sorted_match"
   ]
  },
  {
   "cell_type": "code",
   "execution_count": 515,
   "metadata": {
    "collapsed": false,
    "deletable": true,
    "editable": true
   },
   "outputs": [],
   "source": [
    "best_matches = return_index(match_list)"
   ]
  },
  {
   "cell_type": "code",
   "execution_count": 336,
   "metadata": {
    "collapsed": true,
    "deletable": true,
    "editable": true
   },
   "outputs": [],
   "source": [
    "def read_image(path):\n",
    "    img = cv2.imread(path)\n",
    "    if img is None:\n",
    "        raise IOError(\"Unable to open '%s'. Are you sure it's a valid image path?\")\n",
    "    return img"
   ]
  },
  {
   "cell_type": "code",
   "execution_count": null,
   "metadata": {
    "collapsed": true,
    "deletable": true,
    "editable": true
   },
   "outputs": [],
   "source": []
  },
  {
   "cell_type": "code",
   "execution_count": 522,
   "metadata": {
    "collapsed": false,
    "deletable": true,
    "editable": true
   },
   "outputs": [
    {
     "data": {
      "image/jpeg": "[encoded data removed]",
      "text/plain": [
       "<IPython.core.display.Image object>"
      ]
     },
     "metadata": {},
     "output_type": "display_data"
    },
    {
     "data": {
      "image/jpeg": "[encoded data removed]",
      "text/plain": [
       "<IPython.core.display.Image object>"
      ]
     },
     "metadata": {},
     "output_type": "display_data"
    },
    {
     "data": {
      "image/jpeg": "[encoded data removed]",
      "text/plain": [
       "<IPython.core.display.Image object>"
      ]
     },
     "metadata": {},
     "output_type": "display_data"
    },
    {
     "data": {
      "image/jpeg": "[encoded data removed]",
      "text/plain": [
       "<IPython.core.display.Image object>"
      ]
     },
     "metadata": {},
     "output_type": "display_data"
    },
    {
     "data": {
      "image/jpeg": "[encoded data removed]",
      "text/plain": [
       "<IPython.core.display.Image object>"
      ]
     },
     "metadata": {},
     "output_type": "display_data"
    }
   ],
   "source": [
    "from IPython.display import Image\n",
    "from IPython.display import display\n",
    "image11 = Image(filename=image_df1.iloc[best_matches[-1]]['image_path'])\n",
    "image2 = Image(filename=image_df1.iloc[best_matches[-2]]['image_path']) \n",
    "image3 = Image(filename=image_df1.iloc[best_matches[-3]]['image_path']) \n",
    "image4 = Image(filename=image_df1.iloc[best_matches[-4]]['image_path']) \n",
    "image5 = Image(filename=image_df1.iloc[best_matches[-5]]['image_path']) \n",
    "display(image1, image2, image3, image4, image5)"
   ]
  },
  {
   "cell_type": "code",
   "execution_count": null,
   "metadata": {
    "collapsed": true,
    "deletable": true,
    "editable": true
   },
   "outputs": [],
   "source": []
  }
 ],
 "metadata": {
  "kernelspec": {
   "display_name": "Python 3",
   "language": "python",
   "name": "python3"
  },
  "language_info": {
   "codemirror_mode": {
    "name": "ipython",
    "version": 3
   },
   "file_extension": ".py",
   "mimetype": "text/x-python",
   "name": "python",
   "nbconvert_exporter": "python",
   "pygments_lexer": "ipython3",
   "version": "3.5.2"
  }
 },
 "nbformat": 4,
 "nbformat_minor": 2
}
