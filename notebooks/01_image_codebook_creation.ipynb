{
 "cells": [
  {
   "cell_type": "markdown",
   "metadata": {
    "deletable": true,
    "editable": true
   },
   "source": [
    "### Image codebook creation with SIFT"
   ]
  },
  {
   "cell_type": "code",
   "execution_count": 641,
   "metadata": {
    "collapsed": true,
    "deletable": true,
    "editable": true
   },
   "outputs": [],
   "source": [
    "import cv2\n",
    "import numpy as np\n",
    "import matplotlib.pyplot as plt\n",
    "import pandas as pd\n",
    "import glob\n",
    "import os\n",
    "import pickle\n",
    "from itertools import chain\n",
    "\n",
    "%matplotlib inline"
   ]
  },
  {
   "cell_type": "code",
   "execution_count": 611,
   "metadata": {
    "collapsed": true,
    "deletable": true,
    "editable": true
   },
   "outputs": [],
   "source": [
    "def read_image(path):\n",
    "    img = cv2.imread(path)\n",
    "    if img is None:\n",
    "        raise IOError(\"Unable to open '%s'. Are you sure it's a valid image path?\")\n",
    "    return img"
   ]
  },
  {
   "cell_type": "code",
   "execution_count": 612,
   "metadata": {
    "collapsed": true,
    "deletable": true,
    "editable": true
   },
   "outputs": [],
   "source": [
    "class RootSIFT(object):\n",
    "    # From http://www.pyimagesearch.com/2015/04/13/implementing-rootsift-in-python-and-opencv/\n",
    "    \n",
    "    def __init__(self):\n",
    "        # initialize the SIFT feature extractor\n",
    "        self.extractor = cv2.DescriptorExtractor_create(\"SIFT\")\n",
    "\n",
    "    def compute(self, image, kps, eps=1e-7):\n",
    "        # compute SIFT descriptors\n",
    "        (kps, descs) = self.extractor.compute(image, kps)\n",
    "\n",
    "        # if there are no keypoints or descriptors, return an empty tuple\n",
    "        if len(kps) == 0:\n",
    "            return ([], None)\n",
    "\n",
    "        # apply the Hellinger kernel by first L1-normalizing and taking the\n",
    "        # square-root\n",
    "        descs /= (descs.sum(axis=1, keepdims=True) + eps)\n",
    "        descs = np.sqrt(descs)\n",
    "        #descs /= (np.linalg.norm(descs, axis=1, ord=2) + eps)\n",
    "\n",
    "        # return a tuple of the keypoints and descriptors\n",
    "        return (kps, descs)"
   ]
  },
  {
   "cell_type": "code",
   "execution_count": 613,
   "metadata": {
    "collapsed": false,
    "deletable": true,
    "editable": true
   },
   "outputs": [],
   "source": [
    "def gen_sift_features(image_paths):\n",
    "    \"\"\"\n",
    "    Generate SIFT features for images\n",
    "    Parameters:\n",
    "    -----------\n",
    "    img_paths : list of lists\n",
    "    Returns:\n",
    "    --------\n",
    "    img_descs : list of SIFT descriptors with same indicies as labeled_img_paths\n",
    "    y : list of corresponding labels\n",
    "    \"\"\"\n",
    "    image_df = pd.read_pickle('image_df.pickle')\n",
    "    # img_keypoints = {}\n",
    "    img_descs = []\n",
    "\n",
    "    #print ('generating SIFT descriptors for %i images') % len(image_paths)\n",
    "\n",
    "    for img_path in image_paths:\n",
    "        img = read_image(img_path)\n",
    "        gray = cv2.cvtColor(img, cv2.COLOR_BGR2GRAY)\n",
    "        sift = cv2.xfeatures2d.SIFT_create()\n",
    "        kp, desc = sift.detectAndCompute(gray, None)\n",
    "        print (desc)\n",
    "        # img_keypoints[img_path] = kp\n",
    "        img_descs.append(desc)\n",
    "\n",
    "    print ('SIFT descriptors generated.')\n",
    "\n",
    "    y = np.array(image_paths)\n",
    "\n",
    "    return img_descs, y\n",
    "\n"
   ]
  },
  {
   "cell_type": "code",
   "execution_count": 653,
   "metadata": {
    "collapsed": false,
    "deletable": true,
    "editable": true
   },
   "outputs": [],
   "source": [
    "image_df1 = pd.read_pickle('image_df.pickle')\n",
    "descs, y = gen_sift_features(image_df1.iloc[:,1])"
   ]
  },
  {
   "cell_type": "code",
   "execution_count": 421,
   "metadata": {
    "collapsed": true,
    "deletable": true,
    "editable": true
   },
   "outputs": [],
   "source": [
    "#pickle descriptors\n",
    "with open('descriptors.pkl', 'wb') as w:\n",
    "    pickle.dump(descs, w)"
   ]
  },
  {
   "cell_type": "code",
   "execution_count": 423,
   "metadata": {
    "collapsed": false,
    "deletable": true,
    "editable": true
   },
   "outputs": [
    {
     "data": {
      "text/plain": [
       "(334, 128)"
      ]
     },
     "execution_count": 423,
     "metadata": {},
     "output_type": "execute_result"
    }
   ],
   "source": [
    "descs[1].shape"
   ]
  },
  {
   "cell_type": "code",
   "execution_count": 617,
   "metadata": {
    "collapsed": true,
    "deletable": true,
    "editable": true
   },
   "outputs": [],
   "source": [
    "#Flatten descriptor array for clutstering\n",
    "flattend_descs = list(chain.from_iterable(descs))\n",
    "flattend_descs = np.array(flattend_descs)"
   ]
  },
  {
   "cell_type": "code",
   "execution_count": 619,
   "metadata": {
    "collapsed": false,
    "deletable": true,
    "editable": true
   },
   "outputs": [
    {
     "data": {
      "text/plain": [
       "(2698343, 128)"
      ]
     },
     "execution_count": 619,
     "metadata": {},
     "output_type": "execute_result"
    }
   ],
   "source": [
    "flattend_descs.shape"
   ]
  },
  {
   "cell_type": "markdown",
   "metadata": {},
   "source": [
    "### Cluster images histograms to find optimum number of clusters"
   ]
  },
  {
   "cell_type": "code",
   "execution_count": 661,
   "metadata": {
    "collapsed": true
   },
   "outputs": [],
   "source": [
    "inertia_list = []\n",
    "maxk = [50, 100, 500, 1000, 1500, 2000, 2500]\n",
    "for k in maxk:\n",
    "    model = MiniBatchKMeans(n_clusters=k, random_state=42, init_size=3*k)\n",
    "    model.fit(flattend_descs)\n",
    "    inertia_list.append(model.inertia_)"
   ]
  },
  {
   "cell_type": "code",
   "execution_count": 662,
   "metadata": {
    "collapsed": false
   },
   "outputs": [
    {
     "data": {
      "text/plain": [
       "<matplotlib.text.Text at 0x7fb8aeb610b8>"
      ]
     },
     "execution_count": 662,
     "metadata": {},
     "output_type": "execute_result"
    },
    {
     "data": {
      "image/png": "[encoded data removed]",
      "text/plain": [
       "<matplotlib.figure.Figure at 0x7fb8aea31ac8>"
      ]
     },
     "metadata": {},
     "output_type": "display_data"
    }
   ],
   "source": [
    "plt.plot(maxk,inertia_list)\n",
    "plt.xlabel('k')\n",
    "plt.ylabel('Intertia')\n",
    "plt.title('k vs Interia plot')"
   ]
  },
  {
   "cell_type": "markdown",
   "metadata": {
    "deletable": true,
    "editable": true
   },
   "source": [
    "### K-means clustering with n_clusters = 2000"
   ]
  },
  {
   "cell_type": "code",
   "execution_count": 419,
   "metadata": {
    "collapsed": false,
    "deletable": true,
    "editable": true
   },
   "outputs": [
    {
     "data": {
      "text/plain": [
       "MiniBatchKMeans(batch_size=100, compute_labels=True, init='k-means++',\n",
       "        init_size=6000, max_iter=100, max_no_improvement=10,\n",
       "        n_clusters=2000, n_init=3, random_state=42,\n",
       "        reassignment_ratio=0.01, tol=0.0, verbose=0)"
      ]
     },
     "execution_count": 419,
     "metadata": {},
     "output_type": "execute_result"
    }
   ],
   "source": [
    "from sklearn.cluster import MiniBatchKMeans\n",
    "from sklearn.metrics import pairwise\n",
    "model = MiniBatchKMeans(n_clusters=2000, random_state=42, init_size=3*2000)\n",
    "model.fit(flattend_descs) "
   ]
  },
  {
   "cell_type": "code",
   "execution_count": 201,
   "metadata": {
    "collapsed": false,
    "deletable": true,
    "editable": true
   },
   "outputs": [],
   "source": [
    "mbk_means_cluster_centers = np.sort(model.cluster_centers_, axis=0)"
   ]
  },
  {
   "cell_type": "code",
   "execution_count": 427,
   "metadata": {
    "collapsed": false,
    "deletable": true,
    "editable": true
   },
   "outputs": [
    {
     "data": {
      "text/plain": [
       "(2000, 128)"
      ]
     },
     "execution_count": 427,
     "metadata": {},
     "output_type": "execute_result"
    }
   ],
   "source": [
    "mbk_means_cluster_centers.shape"
   ]
  },
  {
   "cell_type": "code",
   "execution_count": 620,
   "metadata": {
    "collapsed": true,
    "deletable": true,
    "editable": true
   },
   "outputs": [],
   "source": [
    "#pickle cluster centers\n",
    "with open('mbk_means_cluster_centers.pkl', 'wb') as w1:\n",
    "    pickle.dump(mbk_means_cluster_centers, w1)"
   ]
  },
  {
   "cell_type": "code",
   "execution_count": null,
   "metadata": {
    "collapsed": true,
    "deletable": true,
    "editable": true
   },
   "outputs": [],
   "source": [
    "# save the model to disk\n",
    "#filename = 'clustering_model.sav'\n",
    "#pickle.dump(model, open(filename, 'wb')"
   ]
  },
  {
   "cell_type": "code",
   "execution_count": 654,
   "metadata": {
    "collapsed": false,
    "deletable": true,
    "editable": true
   },
   "outputs": [],
   "source": [
    "# Calculate Euclidean distance between cluster centers and descriptors for each image\n",
    "# Create a histogram for codebook\n",
    "from sklearn.metrics.pairwise import euclidean_distances\n",
    "# Pairwise euclidean distances\n",
    "hist_list = list()\n",
    "for i in descs:\n",
    "    ec = euclidean_distances(i, mbk_means_cluster_centers)\n",
    "\n",
    "    # Closest cluster id and count\n",
    "    closest_clust_id = np.argmin(ec, axis=1)\n",
    "\n",
    "    cluster_id, word_count = np.unique(closest_clust_id, return_counts=True)\n",
    "\n",
    "    # Dense matrix of word counts\n",
    "    bag_of_nums = np.zeros(int(2000), dtype=np.int)\n",
    "    bag_of_nums[cluster_id] = word_count            \n",
    "\n",
    "    # Store the histogram in the proper row\n",
    "    hist_list.append(pd.Series(bag_of_nums))\n",
    "\n",
    "    hist_df = pd.concat(hist_list, axis=1).T\n",
    "    hist_df = hist_df.reset_index()\n"
   ]
  },
  {
   "cell_type": "code",
   "execution_count": 655,
   "metadata": {
    "collapsed": false,
    "deletable": true,
    "editable": true
   },
   "outputs": [],
   "source": [
    "# Pickle dataframe\n",
    "hist_df.to_pickle('hist_df.pickle')"
   ]
  },
  {
   "cell_type": "markdown",
   "metadata": {
    "deletable": true,
    "editable": true
   },
   "source": [
    "### Upload query/test image"
   ]
  },
  {
   "cell_type": "code",
   "execution_count": 657,
   "metadata": {
    "collapsed": false,
    "deletable": true,
    "editable": true
   },
   "outputs": [],
   "source": [
    "test_image = cv2.imread('image1a_chanel.jpg')"
   ]
  },
  {
   "cell_type": "code",
   "execution_count": 659,
   "metadata": {
    "collapsed": false,
    "deletable": true,
    "editable": true
   },
   "outputs": [],
   "source": [
    "# Generate keypoints and descriptors for test image\n",
    "gray_test = cv2.cvtColor(test_image, cv2.COLOR_BGR2GRAY)\n",
    "sift_test = cv2.xfeatures2d.SIFT_create()\n",
    "kp_test, desc_test = sift_test.detectAndCompute(gray_test, None)"
   ]
  },
  {
   "cell_type": "code",
   "execution_count": 626,
   "metadata": {
    "collapsed": false,
    "deletable": true,
    "editable": true
   },
   "outputs": [
    {
     "data": {
      "text/plain": [
       "(162, 128)"
      ]
     },
     "execution_count": 626,
     "metadata": {},
     "output_type": "execute_result"
    }
   ],
   "source": [
    "desc_test.shape"
   ]
  },
  {
   "cell_type": "code",
   "execution_count": 630,
   "metadata": {
    "collapsed": false,
    "deletable": true,
    "editable": true
   },
   "outputs": [],
   "source": [
    "# Generate histogram for test image\n",
    "hist_list_test = []\n",
    "ec_test = euclidean_distances(desc_test, mbk_means_cluster_centers)\n",
    "\n",
    "# Closest cluster id and count\n",
    "closest_clust_id_test = np.argmin(ec_test, axis=1)\n",
    "\n",
    "cluster_id_test, word_count_test = np.unique(closest_clust_id_test, return_counts=True)\n",
    "\n",
    "# Dense matrix of word counts\n",
    "bag_of_nums_test = np.zeros(int(2000), dtype=np.int)\n",
    "bag_of_nums_test[cluster_id_test] = word_count_test        \n",
    "\n",
    "# Store the histogram in the proper row\n",
    "hist_list_test.append(pd.Series(bag_of_nums_test))\n",
    "\n",
    "hist_df_test = pd.concat(hist_list_test, axis=1).T\n",
    "hist_df_test = hist_df_test.reset_index()\n"
   ]
  },
  {
   "cell_type": "code",
   "execution_count": 631,
   "metadata": {
    "collapsed": false,
    "deletable": true,
    "editable": true
   },
   "outputs": [
    {
     "data": {
      "text/plain": [
       "(1, 2001)"
      ]
     },
     "execution_count": 631,
     "metadata": {},
     "output_type": "execute_result"
    }
   ],
   "source": [
    "hist_df_test.shape"
   ]
  },
  {
   "cell_type": "code",
   "execution_count": 632,
   "metadata": {
    "collapsed": false,
    "deletable": true,
    "editable": true
   },
   "outputs": [],
   "source": [
    "# Function to calculate chi-squared distance between2 histograms\n",
    "def chi2_distance(histA, histB, eps = 1e-10):\n",
    "    # compute the chi-squared distance\n",
    "    d = 0.5 * np.sum([((a - b) ** 2) / (a + b + eps)\n",
    "        for (a, b) in zip(histA, histB)])\n",
    "        # return the chi-squared distance\n",
    "    return d"
   ]
  },
  {
   "cell_type": "code",
   "execution_count": 660,
   "metadata": {
    "collapsed": false,
    "deletable": true,
    "editable": true
   },
   "outputs": [],
   "source": [
    "# Calculate chi-squared distance between \n",
    "chi_dist = {}\n",
    "for i in range(0,11962):\n",
    "    chi_dist[i] = chi2_distance(hist_df.iloc[0, 1:], hist_df_test.iloc[i, 1:], eps = 1e-10)"
   ]
  },
  {
   "cell_type": "code",
   "execution_count": 636,
   "metadata": {
    "collapsed": true,
    "deletable": true,
    "editable": true
   },
   "outputs": [],
   "source": [
    "# Sort distance list and pickle the top 200 \n",
    "sorted_chi = sorted(chi_dist.items(), key=operator.itemgetter(1))\n",
    "with open('top200.pkl', 'wb') as f:\n",
    "    pickle.dump(sorted_chi[0:200], f)"
   ]
  }
 ],
 "metadata": {
  "kernelspec": {
   "display_name": "Python 3",
   "language": "python",
   "name": "python3"
  },
  "language_info": {
   "codemirror_mode": {
    "name": "ipython",
    "version": 3
   },
   "file_extension": ".py",
   "mimetype": "text/x-python",
   "name": "python",
   "nbconvert_exporter": "python",
   "pygments_lexer": "ipython3",
   "version": "3.5.2"
  }
 },
 "nbformat": 4,
 "nbformat_minor": 2
}
